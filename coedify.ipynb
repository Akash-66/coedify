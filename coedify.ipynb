{
  "nbformat": 4,
  "nbformat_minor": 0,
  "metadata": {
    "colab": {
      "name": "Untitled1.ipynb",
      "provenance": []
    },
    "kernelspec": {
      "name": "python3",
      "display_name": "Python 3"
    },
    "language_info": {
      "name": "python"
    }
  },
  "cells": [
    {
      "cell_type": "markdown",
      "metadata": {
        "id": "x_Lb89HkX1Iq"
      },
      "source": [
        "Write a program that asks the user for a number n and prints the sum of the numbers 1 to n"
      ]
    },
    {
      "cell_type": "code",
      "metadata": {
        "colab": {
          "base_uri": "https://localhost:8080/"
        },
        "id": "xA5JQWtOXt-8",
        "outputId": "614751f0-cc29-4fd9-ac78-1bd9042d7bfa"
      },
      "source": [
        "inp  = int(input())\n",
        "sum=0\n",
        "for i in range(1,inp+1):\n",
        "  sum += i\n",
        "print(sum)"
      ],
      "execution_count": 3,
      "outputs": [
        {
          "output_type": "stream",
          "text": [
            "12\n",
            "78\n"
          ],
          "name": "stdout"
        }
      ]
    },
    {
      "cell_type": "markdown",
      "metadata": {
        "id": "mIzM4WDkYz6z"
      },
      "source": [
        "Modify the previous program such that only multiples of 3 or 5 are considered in the sum.\n",
        "\n",
        "For example: 3, 5, 6, 9, 10, 12, 15 for n=17"
      ]
    },
    {
      "cell_type": "code",
      "metadata": {
        "colab": {
          "base_uri": "https://localhost:8080/"
        },
        "id": "L0gEft-UYNYw",
        "outputId": "73b73ead-d0ca-43be-c8ee-4f37015e6930"
      },
      "source": [
        "sum=0\n",
        "for i in range(1,inp+1):\n",
        "  if i%3==0 or i%5==0:\n",
        "    sum += i\n",
        "print(sum)"
      ],
      "execution_count": 4,
      "outputs": [
        {
          "output_type": "stream",
          "text": [
            "45\n"
          ],
          "name": "stdout"
        }
      ]
    },
    {
      "cell_type": "markdown",
      "metadata": {
        "id": "9IynHkoEZa_i"
      },
      "source": [
        "Write a program that takes integer Array of N element and prints sum of even numbers and\n",
        "\n",
        "sum of odd numbers within the Array."
      ]
    },
    {
      "cell_type": "code",
      "metadata": {
        "colab": {
          "base_uri": "https://localhost:8080/"
        },
        "id": "F2jM-CEHZNPy",
        "outputId": "2c0e032e-f12f-4b92-d509-c82922ad0611"
      },
      "source": [
        "arr = list(map(int,input().split()))\n",
        "even = 0\n",
        "odd = 0\n",
        "for i in range(0,len(arr)):\n",
        "  if arr[i]%2==0:\n",
        "    even+=arr[i]\n",
        "  else:\n",
        "    odd+=arr[i]\n",
        "\n",
        "print(\"odd\",odd)\n",
        "print(\"even\",even)"
      ],
      "execution_count": 6,
      "outputs": [
        {
          "output_type": "stream",
          "text": [
            "2 1 4 5 3 13 11 6\n",
            "odd 33\n",
            "even 12\n"
          ],
          "name": "stdout"
        }
      ]
    },
    {
      "cell_type": "markdown",
      "metadata": {
        "id": "ke4jnzlxaq22"
      },
      "source": [
        "Write a program that asks the user for a number n and gives them the possibility to choose between computing the sum and computing the product of 1,…,n."
      ]
    },
    {
      "cell_type": "code",
      "metadata": {
        "colab": {
          "base_uri": "https://localhost:8080/"
        },
        "id": "QrVNCYUYaPe0",
        "outputId": "53e75231-bcdf-4cda-81ef-948097acbbe7"
      },
      "source": [
        "num = int(input(\"Enter the number: \"))\n",
        "op = input(\"Enter operation type (Sum/Product): \")\n",
        "if op=='Sum' or op=='sum':\n",
        "  sum=0\n",
        "  for i in range(1,num+1):\n",
        "    sum += i\n",
        "if op=='Product' or op=='product':\n",
        "  sum=1\n",
        "  for i in range(1,num+1):\n",
        "    sum *=i\n",
        "\n",
        "print(sum)\n"
      ],
      "execution_count": 12,
      "outputs": [
        {
          "output_type": "stream",
          "text": [
            "Enter the number: 6\n",
            "Enter operation type (Sum/Product): product\n",
            "720\n"
          ],
          "name": "stdout"
        }
      ]
    },
    {
      "cell_type": "markdown",
      "metadata": {
        "id": "W9RUt8-gdMcw"
      },
      "source": [
        "Write a program that prints a multiplication table for numbers up to 12."
      ]
    },
    {
      "cell_type": "code",
      "metadata": {
        "colab": {
          "base_uri": "https://localhost:8080/"
        },
        "id": "5vTE_TZzbzHW",
        "outputId": "b81b82ba-dd73-4296-dd16-cf74a84b5241"
      },
      "source": [
        "num = int(input('Enter integer: '))\n",
        "for i in range(1,13):\n",
        "  print(str(num) +\"*\" + str(i) + '='+str(num*i))\n"
      ],
      "execution_count": 15,
      "outputs": [
        {
          "output_type": "stream",
          "text": [
            "Enter integer: 5\n",
            "5*1=5\n",
            "5*2=10\n",
            "5*3=15\n",
            "5*4=20\n",
            "5*5=25\n",
            "5*6=30\n",
            "5*7=35\n",
            "5*8=40\n",
            "5*9=45\n",
            "5*10=50\n",
            "5*11=55\n",
            "5*12=60\n"
          ],
          "name": "stdout"
        }
      ]
    },
    {
      "cell_type": "markdown",
      "metadata": {
        "id": "t2Ox2FaleYua"
      },
      "source": [
        "Write a program that checks if a given number N is a prime number or not."
      ]
    },
    {
      "cell_type": "code",
      "metadata": {
        "colab": {
          "base_uri": "https://localhost:8080/"
        },
        "id": "UDh7SkemeH4T",
        "outputId": "15eb1f86-ec6f-41f4-bfca-3ba1f7a130ff"
      },
      "source": [
        "num = int(input('Enter number: '))\n",
        "count = 0\n",
        "for i in range(1,num+1):\n",
        "  if num%i==0:\n",
        "    count+=1\n",
        "if count == 2:\n",
        "  print(\"prime number\")\n",
        "else:\n",
        "  print(\"Not a prime number\")"
      ],
      "execution_count": 17,
      "outputs": [
        {
          "output_type": "stream",
          "text": [
            "Enter number: 12\n",
            "Not a prime number\n"
          ],
          "name": "stdout"
        }
      ]
    },
    {
      "cell_type": "markdown",
      "metadata": {
        "id": "lEny1DmJe6lb"
      },
      "source": [
        "Write a program that prints all prime numbers up to a given number N."
      ]
    },
    {
      "cell_type": "code",
      "metadata": {
        "colab": {
          "base_uri": "https://localhost:8080/"
        },
        "id": "_EwJAswee2fp",
        "outputId": "94d18d77-de37-4b0d-ebd3-1dfa35ca42e8"
      },
      "source": [
        "num = int(input('Enter number: '))\n",
        "a=[]\n",
        "for i in range(1,num+1):\n",
        "  a.append(i)\n",
        "b=[]\n",
        "for i in range(0,len(a)):\n",
        "  count=0\n",
        "  for j in range(1,num+1):\n",
        "    if a[i]%j==0:\n",
        "      count +=1\n",
        "  if count == 2:\n",
        "    b.append(a[i])\n",
        "\n",
        "print(b)\n"
      ],
      "execution_count": 23,
      "outputs": [
        {
          "output_type": "stream",
          "text": [
            "Enter number: 13\n",
            "[2, 3, 5, 7, 11, 13]\n"
          ],
          "name": "stdout"
        }
      ]
    },
    {
      "cell_type": "markdown",
      "metadata": {
        "id": "mwRODmiriWrh"
      },
      "source": [
        "Write a function that returns the largest element in a list of Integers."
      ]
    },
    {
      "cell_type": "code",
      "metadata": {
        "colab": {
          "base_uri": "https://localhost:8080/"
        },
        "id": "ImjJ8XBFfvX2",
        "outputId": "05a7fadd-f3a3-4473-a5a0-43f470694f2a"
      },
      "source": [
        "a = list(map(int,input('Enter array: ').split()))\n",
        "a = sorted(a)\n",
        "print(a[-1])"
      ],
      "execution_count": 32,
      "outputs": [
        {
          "output_type": "stream",
          "text": [
            "Enter array: 22 3 4 5\n",
            "22\n"
          ],
          "name": "stdout"
        }
      ]
    },
    {
      "cell_type": "markdown",
      "metadata": {
        "id": "DdnNA4vKkxBJ"
      },
      "source": [
        "\t\n",
        "Write a function that returns the largest element in a list of strings. Input: [\"abc\", \"xyzaadd\", \"22\", \"K\", \"2dk\"] Output: Largest element is: \"xyzaadd\""
      ]
    },
    {
      "cell_type": "code",
      "metadata": {
        "colab": {
          "base_uri": "https://localhost:8080/"
        },
        "id": "U_7TBNkKiu0S",
        "outputId": "815aaa0a-913a-401a-ae1c-f55e44602a6a"
      },
      "source": [
        "a = list(map(str,input().split()))\n",
        "result = \"\"\n",
        "for i in range(0,len(a)):\n",
        "  if len(a[i]) > len(result):\n",
        "    result = a[i]\n",
        "print(result)"
      ],
      "execution_count": 46,
      "outputs": [
        {
          "output_type": "stream",
          "text": [
            "abc xyzaadd 22 K 2dk\n",
            "xyzaadd\n"
          ],
          "name": "stdout"
        }
      ]
    },
    {
      "cell_type": "code",
      "metadata": {
        "id": "M9J55CSdljN3"
      },
      "source": [
        ""
      ],
      "execution_count": null,
      "outputs": []
    }
  ]
}